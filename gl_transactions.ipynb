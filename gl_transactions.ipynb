{
  "nbformat": 4,
  "nbformat_minor": 0,
  "metadata": {
    "colab": {
      "provenance": [],
      "authorship_tag": "ABX9TyOTENLvFjuqqwAXOL2yAImO",
      "include_colab_link": true
    },
    "kernelspec": {
      "name": "python3",
      "display_name": "Python 3"
    },
    "language_info": {
      "name": "python"
    }
  },
  "cells": [
    {
      "cell_type": "markdown",
      "metadata": {
        "id": "view-in-github",
        "colab_type": "text"
      },
      "source": [
        "<a href=\"https://colab.research.google.com/github/victormartinez-work/colab-runbooks/blob/main/gl_transactions.ipynb\" target=\"_parent\"><img src=\"https://colab.research.google.com/assets/colab-badge.svg\" alt=\"Open In Colab\"/></a>"
      ]
    },
    {
      "cell_type": "code",
      "source": [
        "pip install faker\n"
      ],
      "metadata": {
        "colab": {
          "base_uri": "https://localhost:8080/"
        },
        "id": "PEDn5WSAWyil",
        "outputId": "17bd3d2b-b9bc-4183-e887-b44c6f2a2fad"
      },
      "execution_count": null,
      "outputs": [
        {
          "output_type": "stream",
          "name": "stdout",
          "text": [
            "Looking in indexes: https://pypi.org/simple, https://us-python.pkg.dev/colab-wheels/public/simple/\n",
            "Collecting faker\n",
            "  Downloading Faker-18.4.0-py3-none-any.whl (1.7 MB)\n",
            "\u001b[2K     \u001b[90m━━━━━━━━━━━━━━━━━━━━━━━━━━━━━━━━━━━━━━━━\u001b[0m \u001b[32m1.7/1.7 MB\u001b[0m \u001b[31m21.9 MB/s\u001b[0m eta \u001b[36m0:00:00\u001b[0m\n",
            "\u001b[?25hRequirement already satisfied: python-dateutil>=2.4 in /usr/local/lib/python3.9/dist-packages (from faker) (2.8.2)\n",
            "Requirement already satisfied: six>=1.5 in /usr/local/lib/python3.9/dist-packages (from python-dateutil>=2.4->faker) (1.16.0)\n",
            "Installing collected packages: faker\n",
            "Successfully installed faker-18.4.0\n"
          ]
        }
      ]
    },
    {
      "cell_type": "code",
      "execution_count": null,
      "metadata": {
        "colab": {
          "base_uri": "https://localhost:8080/"
        },
        "id": "tbLlupE9VK28",
        "outputId": "c2dff5d7-49fe-4471-cef9-0479cc0cea46"
      },
      "outputs": [
        {
          "output_type": "stream",
          "name": "stdout",
          "text": [
            "                          TransactionID AccountID        Date  \\\n",
            "0  292692a4-1619-4d92-953c-7a4c264139ae      4849  2022-08-14   \n",
            "1  a1c8f1fc-4d3b-4cd5-8bc3-2a6b8aadc32e      4533  2022-07-29   \n",
            "2  c1cca5d6-99e6-4157-9256-1baa583debd0      1988  2022-09-23   \n",
            "3  25979114-ca27-4e1d-9273-015c6978ef2e      2247  2023-04-02   \n",
            "4  0e1ca244-12b9-4bf6-a1e3-1faba7cc59e0      2534  2022-08-11   \n",
            "\n",
            "                                Description   Debit  Credit  \n",
            "0  Sing cultural sense out season business.  883.91  663.46  \n",
            "1          Act agreement end role final on.  342.99  175.39  \n",
            "2      Seat interesting both yeah yourself.  740.54  907.30  \n",
            "3                      Though soldier then.  511.77  301.35  \n",
            "4          Action activity kind stand fast.  507.29  620.28  \n"
          ]
        }
      ],
      "source": [
        "import pandas as pd\n",
        "import random\n",
        "from faker import Faker\n",
        "\n",
        "# Initialize faker\n",
        "fake = Faker()\n",
        "\n",
        "# Define the number of transactions to generate\n",
        "num_transactions = 1000\n",
        "\n",
        "# Define the structure of the GL transactions DataFrame\n",
        "columns = ['TransactionID', 'AccountID', 'Date', 'Description', 'Debit', 'Credit']\n",
        "\n",
        "# Initialize an empty DataFrame to store the GL transactions\n",
        "gl_transactions = pd.DataFrame(columns=columns)\n",
        "\n",
        "# Generate random GL transactions and add them to the DataFrame\n",
        "for _ in range(num_transactions):\n",
        "    transaction_id = fake.uuid4()\n",
        "    account_id = random.randint(1000, 9999)\n",
        "    date = fake.date_between(start_date='-1y', end_date='today')\n",
        "    description = fake.sentence(nb_words=5)\n",
        "    debit = round(random.uniform(1, 1000), 2)\n",
        "    credit = round(random.uniform(1, 1000), 2)\n",
        "\n",
        "    transaction_data = {\n",
        "        'TransactionID': transaction_id,\n",
        "        'AccountID': account_id,\n",
        "        'Date': date,\n",
        "        'Description': description,\n",
        "        'Debit': debit,\n",
        "        'Credit': credit\n",
        "    }\n",
        "\n",
        "    gl_transactions = pd.concat([gl_transactions, pd.DataFrame([transaction_data])], ignore_index=True)\n",
        "\n",
        "# Print the first few rows of the generated GL transactions DataFrame\n",
        "print(gl_transactions.head())\n",
        "\n",
        "# Save the DataFrame to a CSV file (optional)\n",
        "# gl_transactions.to_csv('gl_transactions.csv', index=False)\n"
      ]
    }
  ]
}